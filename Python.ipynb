{
  "nbformat": 4,
  "nbformat_minor": 0,
  "metadata": {
    "colab": {
      "provenance": []
    },
    "kernelspec": {
      "name": "python3",
      "display_name": "Python 3"
    },
    "language_info": {
      "name": "python"
    }
  },
  "cells": [
    {
      "cell_type": "markdown",
      "source": [
        "Q 1. Explain the key features of Python that make it a popular choice for programming ?**bold text**"
      ],
      "metadata": {
        "id": "25gXfLkRRDt2"
      }
    },
    {
      "cell_type": "markdown",
      "source": [
        "Python is a simple and easy to read. Its syntax is clear, making it a great choice for beginners. Python is also versatile, used for everything from web development to data science, thanks to its huge collection of libraries and frameworks. It runs on all major operating systems, and because it's an interpreted language, you can test and debug code quickly without a separate compilation step."
      ],
      "metadata": {
        "id": "YU3tEqvzRNtL"
      }
    },
    {
      "cell_type": "markdown",
      "source": [
        "Q 2. Describe the role of predefined keywords in Python and provide examples of how they are used in a program.\n"
      ],
      "metadata": {
        "id": "AjWHSR3NUPkJ"
      }
    },
    {
      "cell_type": "markdown",
      "source": [
        "Predefined keywords are special words in Python with a fixed meaning. They're essential for the language's syntax and can't be used for anything else, like naming a variable or function. They help the Python interpreter understand and run your code correctly."
      ],
      "metadata": {
        "id": "RqOki5WLXKAV"
      }
    },
    {
      "cell_type": "markdown",
      "source": [
        "Examples of Keyword Usage **-**\n",
        "Here are some common Python keywords and how they're used in a program **:**\n",
        "**if, elif, else**\n",
        "These keywords are used for conditional statements. They allow a program to execute different blocks of code based on whether a condition is true or false."
      ],
      "metadata": {
        "id": "qkz85TC7EreY"
      }
    },
    {
      "cell_type": "code",
      "source": [
        "x = 10\n",
        "if x > 10:\n",
        "    print(\"x is greater than 10\")\n",
        "elif x == 10:\n",
        "    print(\"x is exactly 10\")\n",
        "else:\n",
        "    print(\"x is less than 10\")"
      ],
      "metadata": {
        "id": "7SAYbD7WFx_J"
      },
      "execution_count": null,
      "outputs": []
    },
    {
      "cell_type": "markdown",
      "source": [
        "**for, in, while**\n",
        "These keywords are used for looping and iteration. They enable a program to repeat a block of code multiple times.\n",
        "\n",
        "for and in are used to iterate over a sequence ( like a list, tuple, or string )."
      ],
      "metadata": {
        "id": "fRf2NunLFzeN"
      }
    },
    {
      "cell_type": "code",
      "source": [
        "fruits = [\"apple\", \"banana\", \"cherry\"]\n",
        "for fruit in fruits:\n",
        "    print(fruit)"
      ],
      "metadata": {
        "id": "sPyAIfIwHIaT"
      },
      "execution_count": null,
      "outputs": []
    },
    {
      "cell_type": "markdown",
      "source": [
        "- > ***while***  is used to create a loop that continues as long as a certain condition is true."
      ],
      "metadata": {
        "id": "L1nayrYiHKy7"
      }
    },
    {
      "cell_type": "code",
      "source": [
        "count = 0\n",
        "while count < 3:\n",
        "    print(count)\n",
        "    count += 1"
      ],
      "metadata": {
        "id": "U0vGZDvVHxn_"
      },
      "execution_count": null,
      "outputs": []
    },
    {
      "cell_type": "markdown",
      "source": [
        "- >**def**\n",
        "\n",
        "The def keyword is used to define a function. A function is a reusable block of code that performs a specific task."
      ],
      "metadata": {
        "id": "FHBcBct1HzPO"
      }
    },
    {
      "cell_type": "code",
      "source": [
        "def greet(name):\n",
        "    print(f\"Hello, {name}!\")\n",
        "\n",
        "greet(\"Alice\")"
      ],
      "metadata": {
        "id": "2BraTgnAIhCB"
      },
      "execution_count": null,
      "outputs": []
    },
    {
      "cell_type": "markdown",
      "source": [
        "The ***class*** keyword is used to define a ***class***, which is the blueprint for creating objects in object-oriented programming."
      ],
      "metadata": {
        "id": "ZyOkSJePJFEs"
      }
    },
    {
      "cell_type": "code",
      "source": [
        "class Dog:\n",
        "    def __init__(self, name):\n",
        "        self.name = name\n",
        "\n",
        "    def bark(self):\n",
        "        print(f\"{self.name} barks!\")\n",
        "\n",
        "my_dog = Dog(\"Buddy\")\n",
        "my_dog.bark()"
      ],
      "metadata": {
        "id": "YT2Gn_LPJh2s"
      },
      "execution_count": null,
      "outputs": []
    },
    {
      "cell_type": "markdown",
      "source": [
        "- >import, as\n",
        "\n",
        "\n",
        "\n",
        "These keywords are used to import modules or parts of modules, allowing you to use code from other files."
      ],
      "metadata": {
        "id": "vWiT8suOJngw"
      }
    },
    {
      "cell_type": "code",
      "source": [
        "import math\n",
        "print(math.pi)\n",
        "\n",
        "import random as rnd\n",
        "print(rnd.randint(1, 10))"
      ],
      "metadata": {
        "id": "uw0TvqRlKXX1"
      },
      "execution_count": null,
      "outputs": []
    },
    {
      "cell_type": "markdown",
      "source": [
        "The **return** keyword is used inside a function to send a value back to the part of the program that called the function."
      ],
      "metadata": {
        "id": "0ZwK57h1KZyS"
      }
    },
    {
      "cell_type": "code",
      "source": [
        "def add(a, b):\n",
        "    return a + b\n",
        "\n",
        "result = add(5, 3)\n",
        "print(result) # Output: 8"
      ],
      "metadata": {
        "id": "XG3rfcGqKsua"
      },
      "execution_count": null,
      "outputs": []
    },
    {
      "cell_type": "markdown",
      "source": [
        "***True***, ***False***, ***None***\n",
        "\n",
        " These are the boolean and null-value keywords.\n",
        "\n",
        "- >True and False represent boolean values.\n",
        "\n",
        "- >None represents the absence of a value or a null value."
      ],
      "metadata": {
        "id": "-CuSTw5kL-A3"
      }
    },
    {
      "cell_type": "code",
      "source": [
        "is_active = True\n",
        "user_name = None"
      ],
      "metadata": {
        "id": "u-y9zmEkNIxP"
      },
      "execution_count": null,
      "outputs": []
    },
    {
      "cell_type": "markdown",
      "source": [
        "Q 3. Compare and contrast mutable and immutable objects in Python with examples"
      ],
      "metadata": {
        "id": "EfoBtgpST_D2"
      }
    },
    {
      "cell_type": "markdown",
      "source": [
        "***Mutable objects*** can be changed after they are created, while ***immutable objects*** cannot. This fundamental difference affects how they behave in a program, especially concerning memory and data manipulation."
      ],
      "metadata": {
        "id": "7Qc9jxTga7RA"
      }
    },
    {
      "cell_type": "markdown",
      "source": [
        "\n",
        "**Mutable objects** are those whose state or content can be modified in place after they are created. This means that the object's memory address remains the same even after its internal data is altered. They are efficient for operations that involve frequent changes to the data.\n",
        "\n",
        "---\n",
        "Examples:\n",
        "\n",
        "- **Lists**: You can add , remove , or change elements of a list."
      ],
      "metadata": {
        "id": "vMgfbz-DcbYc"
      }
    },
    {
      "cell_type": "code",
      "source": [
        "my_list = [1, 2, 3]\n",
        "print(f\"Original list: {my_list}\")\n",
        "my_list.append(4)\n",
        "print(f\"Modified list: {my_list}\")"
      ],
      "metadata": {
        "id": "NA_dkrnVf9vF"
      },
      "execution_count": null,
      "outputs": []
    },
    {
      "cell_type": "markdown",
      "source": [
        "- Dictionaries: You can add or delete key-value pairs."
      ],
      "metadata": {
        "id": "dGzNOFU4f_HM"
      }
    },
    {
      "cell_type": "code",
      "source": [
        "my_dict = {'a': 1, 'b': 2}\n",
        "print(f\"Original dictionary: {my_dict}\")\n",
        "my_dict['c'] = 3\n",
        "print(f\"Modified dictionary: {my_dict}\")"
      ],
      "metadata": {
        "id": "v3SQN7HSgMZI"
      },
      "execution_count": null,
      "outputs": []
    },
    {
      "cell_type": "markdown",
      "source": [
        "- Sets: You can add or remove elements."
      ],
      "metadata": {
        "id": "EyTUe35qgYYc"
      }
    },
    {
      "cell_type": "code",
      "source": [
        "my_set = {1, 2, 3}\n",
        "print(f\"Original set: {my_set}\")\n",
        "my_set.add(4)\n",
        "print(f\"Modified set: {my_set}\")"
      ],
      "metadata": {
        "id": "t-s3DVmIgc1Q"
      },
      "execution_count": null,
      "outputs": []
    },
    {
      "cell_type": "markdown",
      "source": [
        "\n",
        "***Immutable objects*** cannot be changed after they are created. Any operation that seems to \"modify\" an immutable object actually creates a new object with the new value. The original object remains unchanged in memory. This makes them inherently thread-safe and useful for data that should not be altered, such as dictionary keys.\n",
        "\n",
        "\n",
        "\n",
        "Examples:\n",
        "\n",
        "- Strings: You cannot change individual characters in a string."
      ],
      "metadata": {
        "id": "ZU6Rb9sGgsmD"
      }
    },
    {
      "cell_type": "code",
      "source": [
        "my_string = \"hello\"\n",
        "# my_string[0] = 'H'  # This would raise a TypeError\n",
        "new_string = my_string + \" world\"\n",
        "print(f\"New string: {new_string}\")\n",
        "print(f\"Original string remains unchanged: {my_string}\")"
      ],
      "metadata": {
        "id": "xCqx9DGrhAse"
      },
      "execution_count": null,
      "outputs": []
    },
    {
      "cell_type": "markdown",
      "source": [
        "- Numbers (int, float): When you reassign a number variable, you're pointing it to a new number object."
      ],
      "metadata": {
        "id": "V08WvpoFhCGo"
      }
    },
    {
      "cell_type": "code",
      "source": [
        "x = 10\n",
        "print(f\"Original x: {x}\")\n",
        "y = x + 5  # Creates a new integer object\n",
        "print(f\"New y: {y}\")"
      ],
      "metadata": {
        "id": "B5VUnHUthT-H"
      },
      "execution_count": null,
      "outputs": []
    },
    {
      "cell_type": "markdown",
      "source": [
        "- Tuples: You cannot add, remove, or change elements in a tuple."
      ],
      "metadata": {
        "id": "UNxQxEe-hYcS"
      }
    },
    {
      "cell_type": "code",
      "source": [
        "my_tuple = (1, 2, 3)\n",
        "# my_tuple[0] = 99  # This would raise a TypeError"
      ],
      "metadata": {
        "id": "mVP_osJ-ha8_"
      },
      "execution_count": null,
      "outputs": []
    },
    {
      "cell_type": "markdown",
      "source": [
        "Q 4. Discuss the different types of operators in Python and provide examples of how they are used"
      ],
      "metadata": {
        "id": "8WKZQuDBhc8D"
      }
    },
    {
      "cell_type": "markdown",
      "source": [
        "Python provides various types of operators to perform operations on variables and values. These operators are categorized based on their functionality:\n",
        "\n",
        "1. Arithmetic Operators: Used for mathematical calculations."
      ],
      "metadata": {
        "id": "JRU8qjkk630m"
      }
    },
    {
      "cell_type": "code",
      "source": [
        "a = 10\n",
        "b = 3\n",
        "print(a + b)  # Addition: 13\n",
        "print(a - b)  # Subtraction: 7\n",
        "print(a * b)  # Multiplication: 30\n",
        "print(a / b)  # Division: 3.333...\n",
        "print(a // b) # Floor Division: 3\n",
        "print(a % b)  # Modulus (remainder): 1\n",
        "print(a ** b) # Exponentiation: 1000"
      ],
      "metadata": {
        "id": "KixFSgc17Gr2"
      },
      "execution_count": null,
      "outputs": []
    },
    {
      "cell_type": "markdown",
      "source": [
        "2. Assignment Operators: Used to assign values to variables."
      ],
      "metadata": {
        "id": "riQZLoJn7LCm"
      }
    },
    {
      "cell_type": "code",
      "source": [
        "x = 5\n",
        "x += 3  # x = x + 3, now x is 8\n",
        "print(x)\n",
        "x -= 2  # x = x - 2, now x is 6\n",
        "print(x)"
      ],
      "metadata": {
        "id": "XV2j8ef37P05"
      },
      "execution_count": null,
      "outputs": []
    },
    {
      "cell_type": "markdown",
      "source": [
        "3. Comparison (Relational) Operators: Used to compare values and return a boolean result (True or False)."
      ],
      "metadata": {
        "id": "V1-GPuO47Rof"
      }
    },
    {
      "cell_type": "code",
      "source": [
        "p = 7\n",
        "q = 7\n",
        "print(p == q) # Equal to: True\n",
        "print(p != q) # Not equal to: False\n",
        "print(p > 5)  # Greater than: True\n",
        "print(p <= q) # Less than or equal to: True"
      ],
      "metadata": {
        "id": "Utj3GB4U7UD-"
      },
      "execution_count": null,
      "outputs": []
    },
    {
      "cell_type": "markdown",
      "source": [
        "4. Logical Operators: Used to combine conditional statements."
      ],
      "metadata": {
        "id": "vKQkzaVs7WTj"
      }
    },
    {
      "cell_type": "code",
      "source": [
        "is_sunny = True\n",
        "is_warm = False\n",
        "print(is_sunny and is_warm) # AND: False\n",
        "print(is_sunny or is_warm)  # OR: True\n",
        "print(not is_sunny)         # NOT: False"
      ],
      "metadata": {
        "id": "8pBU9xnZ7a5E"
      },
      "execution_count": null,
      "outputs": []
    },
    {
      "cell_type": "markdown",
      "source": [
        "5. Identity Operators: Used to compare the memory locations of two objects."
      ],
      "metadata": {
        "id": "mtylNun27gMj"
      }
    },
    {
      "cell_type": "code",
      "source": [
        "list1 = [1, 2, 3]\n",
        "list2 = [1, 2, 3]\n",
        "list3 = list1\n",
        "print(list1 is list2)  # False (different memory locations)\n",
        "print(list1 is list3)  # True (same memory location)"
      ],
      "metadata": {
        "id": "X6h25kAf7g8J"
      },
      "execution_count": null,
      "outputs": []
    },
    {
      "cell_type": "markdown",
      "source": [
        "6. Membership Operators: Used to test if a sequence contains a specific value."
      ],
      "metadata": {
        "id": "UEzc6CKD7lMJ"
      }
    },
    {
      "cell_type": "code",
      "source": [
        "my_string = \"Hello Python\"\n",
        "print(\"Python\" in my_string)    # True\n",
        "print(\"Java\" not in my_string)  # True"
      ],
      "metadata": {
        "id": "WPSJ-78n7lwp"
      },
      "execution_count": null,
      "outputs": []
    },
    {
      "cell_type": "markdown",
      "source": [
        "7. Bitwise Operators: Used to perform operations on individual bits of integers."
      ],
      "metadata": {
        "id": "rRuWH_vJ7pvh"
      }
    },
    {
      "cell_type": "code",
      "source": [
        "num1 = 5  # Binary: 0101\n",
        "num2 = 3  # Binary: 0011\n",
        "print(num1 & num2) # Bitwise AND: 1 (0001)\n",
        "print(num1 | num2) # Bitwise OR: 7 (0111)\n",
        "print(num1 ^ num2) # Bitwise XOR: 6 (0110)\n",
        "print(~num1)       # Bitwise NOT: -6\n",
        "print(num1 << 1)   # Left Shift: 10 (1010)\n",
        "print(num1 >> 1)   # Right Shift: 2 (0010)"
      ],
      "metadata": {
        "id": "_0mCfRK-7qoE"
      },
      "execution_count": null,
      "outputs": []
    },
    {
      "cell_type": "markdown",
      "source": [
        "Q 5. Explain the concept of type casting in Python with examples"
      ],
      "metadata": {
        "id": "yJk6zQdN794y"
      }
    },
    {
      "cell_type": "markdown",
      "source": [
        "Type casting is the process of changing a variable from one data type to another. For example, you can convert a number into text, or a floating-point number into a whole number. This is necessary when a function or operation requires a specific data type."
      ],
      "metadata": {
        "id": "HFLGE4DF-Mts"
      }
    },
    {
      "cell_type": "markdown",
      "source": [
        "Common Type Casting Functions\n",
        "Python has built-in functions to help with this conversion. The name of the function is the same as the name of the data type you want to convert to.\n",
        "\n",
        "- ***int()***: Converts a value into an integer (a whole number).\n",
        "- ***float()***: Converts a value into a floating-point number (a number with a decimal).\n",
        "- ***str()***: Converts a value into a string (text)."
      ],
      "metadata": {
        "id": "NpP_FqYV-Y1e"
      }
    },
    {
      "cell_type": "markdown",
      "source": [
        "int()"
      ],
      "metadata": {
        "id": "ZEsXzdjk_DXU"
      }
    },
    {
      "cell_type": "code",
      "source": [
        "x = 10.5\n",
        "y = int(x) # Converts the float 10.5 into the integer 10\n",
        "print(y)\n",
        "# Output: 10"
      ],
      "metadata": {
        "id": "OiIgFPJA--Wp"
      },
      "execution_count": null,
      "outputs": []
    },
    {
      "cell_type": "markdown",
      "source": [
        "float():"
      ],
      "metadata": {
        "id": "hDgkN4NB_Hch"
      }
    },
    {
      "cell_type": "code",
      "source": [
        "a = 10\n",
        "b = float(a) # Converts the integer 10 into the float 10.0\n",
        "print(b)\n",
        "# Output: 10.0"
      ],
      "metadata": {
        "id": "cayxUbwV-_FM"
      },
      "execution_count": null,
      "outputs": []
    },
    {
      "cell_type": "markdown",
      "source": [
        "str():"
      ],
      "metadata": {
        "id": "ZbYFpP5T_RH0"
      }
    },
    {
      "cell_type": "code",
      "source": [
        "age = 25\n",
        "message = \"I am \" + str(age) + \" years old.\" # Converts the integer to a string for joining\n",
        "print(message)\n",
        "# Output: I am 25 years old."
      ],
      "metadata": {
        "id": "doxzwpLm--rA"
      },
      "execution_count": null,
      "outputs": []
    },
    {
      "cell_type": "markdown",
      "source": [
        "Q 6. How do conditional statements work in Python? Illustrate with examples"
      ],
      "metadata": {
        "id": "4yLPOuci_-nD"
      }
    },
    {
      "cell_type": "markdown",
      "source": [
        "In Python, conditional statements control the flow of a program by executing specific blocks of code only if certain conditions are met. The main conditional statements are **if**, **elif (else if)**, and **else**. They evaluate an expression, and if it's true, the corresponding code block is executed.\n",
        "\n",
        "How It Works\n",
        "\n",
        "\n",
        "#***if Statement***\n",
        "\n",
        "The ***if statement*** is the most basic conditional. The code block indented under it runs only if the condition is True.\n",
        "\n",
        "#***else Statement***\n",
        "The else statement provides an alternative code block to execute when the if condition is False. The else statement cannot exist on its own; it must follow an if statement.\n",
        "\n",
        "#***elif Statement***\n",
        "\n",
        "The elif statement allows you to check for multiple conditions sequentially. It's an abbreviation for \"else if.\" The first elif condition that evaluates to True will have its code block executed, and the rest of the elif and else statements are skipped. You can have multiple elif statements between the if and else blocks."
      ],
      "metadata": {
        "id": "802-HPcfAWc0"
      }
    },
    {
      "cell_type": "markdown",
      "source": [
        "#***if Statement***"
      ],
      "metadata": {
        "id": "jNsJYxKnA3iv"
      }
    },
    {
      "cell_type": "code",
      "source": [
        "x = 10\n",
        "\n",
        "if x > 5:\n",
        "    print(\"x is greater than 5\") # This line will execute"
      ],
      "metadata": {
        "id": "-0tJl3mFCpiP"
      },
      "execution_count": null,
      "outputs": []
    },
    {
      "cell_type": "markdown",
      "source": [
        "#***else Statement***"
      ],
      "metadata": {
        "id": "c0YcN-LECwIQ"
      }
    },
    {
      "cell_type": "code",
      "source": [
        "y = 3\n",
        "\n",
        "if y > 5:\n",
        "    print(\"y is greater than 5\")\n",
        "else:\n",
        "    print(\"y is not greater than 5\") # This line will execute"
      ],
      "metadata": {
        "id": "PbXs8JHLC1fu"
      },
      "execution_count": null,
      "outputs": []
    },
    {
      "cell_type": "markdown",
      "source": [
        "#***elif Statement***"
      ],
      "metadata": {
        "id": "qTDPjyR5C4VK"
      }
    },
    {
      "cell_type": "code",
      "source": [
        "temperature = 25\n",
        "\n",
        "if temperature > 30:\n",
        "    print(\"It's a hot day!\")\n",
        "elif temperature >= 20: # This condition is met\n",
        "    print(\"It's a pleasant day.\") # This line will execute\n",
        "else:\n",
        "    print(\"It's a cold day.\")"
      ],
      "metadata": {
        "id": "zucmKFKoDgbE"
      },
      "execution_count": null,
      "outputs": []
    },
    {
      "cell_type": "markdown",
      "source": [
        "#**Key Concepts**\n",
        "\n",
        "\n",
        "\n",
        " - Indentation: Python relies on indentation (usually four spaces) to define code blocks. All lines within a conditional block must have the same level of indentation.\n",
        "\n",
        " - Boolean Expressions: The conditions used in if, elif, and else statements are Boolean expressions, which evaluate to either True or False. These expressions often use comparison operators like == (equal to), != (not equal to), > (greater than), < (less than), >= (greater than or equal to), and <= (less than or equal to).\n",
        "\n",
        "- Logical Operators: You can combine multiple conditions using logical operators:\n",
        "\n",
        " - - and: Both conditions must be True.\n",
        "\n",
        " - - or: At least one condition must be True.\n",
        "\n",
        " - - not: Reverses the Boolean value of the condition.\n",
        "\n"
      ],
      "metadata": {
        "id": "PJdTjbsjDjwK"
      }
    },
    {
      "cell_type": "code",
      "source": [
        "age = 17\n",
        "is_licensed = False\n",
        "\n",
        "if age >= 16 and is_licensed:\n",
        "    print(\"You can drive legally.\")\n",
        "elif age >= 16 and not is_licensed:\n",
        "    print(\"You are old enough to drive, but need a license.\") # This will execute\n",
        "else:\n",
        "    print(\"You are not old enough to drive.\")"
      ],
      "metadata": {
        "id": "NPehq8wyFPNE"
      },
      "execution_count": null,
      "outputs": []
    },
    {
      "cell_type": "markdown",
      "source": [
        "Q 7. Describe the different types of loops in Python and their use cases with examples."
      ],
      "metadata": {
        "id": "Zm9kso45FWkQ"
      }
    },
    {
      "cell_type": "markdown",
      "source": [
        "In Python, loops are control structures that repeatedly execute a block of code. They are essential for automating repetitive tasks. There are two main types of loops: ***for loops*** and ***while loops***.\n",
        "\n",
        "#***for Loop***\n",
        "\n",
        "A **for loop** is used to iterate over a sequence (like a list, tuple, dictionary, set, or string) or any other iterable object. It's best used when you know the number of iterations in advance.\n",
        "\n",
        "#***while loop***\n",
        "\n",
        "\n",
        "A **while loop** repeatedly executes a block of code as long as a specified condition is True. It's best used when the number of iterations is unknown and depends on the condition being met."
      ],
      "metadata": {
        "id": "QGJIcPTnGwYu"
      }
    },
    {
      "cell_type": "markdown",
      "source": [
        "#***for loop***\n",
        "\n",
        "Use Case : Ideal for iterating through items in a collection."
      ],
      "metadata": {
        "id": "HHW3HCh0H7Wi"
      }
    },
    {
      "cell_type": "code",
      "source": [
        "fruits = [\"apple\", \"banana\", \"cherry\"]\n",
        "for fruit in fruits:\n",
        "    print(fruit)\n",
        "\n",
        "# Output:\n",
        "# apple\n",
        "# banana\n",
        "# cherry"
      ],
      "metadata": {
        "id": "fINKeiICH_qd"
      },
      "execution_count": null,
      "outputs": []
    },
    {
      "cell_type": "markdown",
      "source": [
        "You can also use the range() function to iterate a specific number of times. range(5) generates numbers from 0 to 4."
      ],
      "metadata": {
        "id": "-JwwyTgtIeYn"
      }
    },
    {
      "cell_type": "code",
      "source": [
        "for i in range(3):\n",
        "    print(\"Python is fun!\")\n",
        "\n",
        "# Output:\n",
        "# Python is fun!\n",
        "# Python is fun!\n",
        "# Python is fun!"
      ],
      "metadata": {
        "id": "I_Fmb01jIfL8"
      },
      "execution_count": null,
      "outputs": []
    },
    {
      "cell_type": "markdown",
      "source": [
        "#***while loop***\n",
        "\n",
        "Use Case : Perfect for scenarios where you need to repeat an action until a certain condition is no longer true, such as waiting for user input or processing data from a stream."
      ],
      "metadata": {
        "id": "atHNfH-WICy9"
      }
    },
    {
      "cell_type": "code",
      "source": [
        "count = 0\n",
        "while count < 3:\n",
        "    print(\"Count is:\", count)\n",
        "    count += 1 # This line increments the count\n",
        "\n",
        "# Output:\n",
        "# Count is: 0\n",
        "# Count is: 1\n",
        "# Count is: 2"
      ],
      "metadata": {
        "id": "NFPxB3GdIGmd"
      },
      "execution_count": null,
      "outputs": []
    }
  ]
}